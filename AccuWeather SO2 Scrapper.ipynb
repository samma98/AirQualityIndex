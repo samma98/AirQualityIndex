{
 "cells": [
  {
   "cell_type": "markdown",
   "id": "4bd1c6c0",
   "metadata": {},
   "source": [
    "# <u>AccuWeather SO2 Scrapper"
   ]
  },
  {
   "cell_type": "code",
   "execution_count": null,
   "id": "36a53c39",
   "metadata": {},
   "outputs": [],
   "source": [
    "import pandas as pd\n",
    "\n",
    "data = pd.read_csv('AQI and Lat Long of Countries.csv')\n",
    "data"
   ]
  },
  {
   "cell_type": "code",
   "execution_count": null,
   "id": "7332dd86",
   "metadata": {},
   "outputs": [],
   "source": [
    "data['City']"
   ]
  },
  {
   "cell_type": "code",
   "execution_count": null,
   "id": "5f9eeda5",
   "metadata": {},
   "outputs": [],
   "source": [
    "for city in data['City'][1:20]:\n",
    "    print(city)"
   ]
  },
  {
   "cell_type": "code",
   "execution_count": null,
   "id": "86199fd9",
   "metadata": {},
   "outputs": [],
   "source": [
    "from selenium import webdriver\n",
    "from selenium.webdriver.common.by import By\n",
    "\n",
    "# Set the path to the Microsoft Edge driver\n",
    "edge_driver_path = \"C:/Users/Samujitha/Downloads/msedgedriver.exe\"\n",
    "\n",
    "# Instantiate the WebDriver\n",
    "driver = webdriver.Edge(executable_path=edge_driver_path)\n",
    "\n",
    "# Navigate to the webpage\n",
    "driver.get(\"https://www.accuweather.com/\")"
   ]
  },
  {
   "cell_type": "code",
   "execution_count": null,
   "id": "f9958042",
   "metadata": {},
   "outputs": [],
   "source": [
    "from selenium.webdriver.common.keys import Keys\n",
    "from selenium.webdriver.support.ui import WebDriverWait\n",
    "from selenium.webdriver.support import expected_conditions as EC\n",
    "from time import sleep"
   ]
  },
  {
   "cell_type": "code",
   "execution_count": null,
   "id": "fd083176",
   "metadata": {},
   "outputs": [],
   "source": [
    "### change the Range as required ###\n",
    "### for city in data['City'][0:1000]: ###\n",
    "\n",
    "so2_value=[]\n",
    "\n",
    "for city in data['City'][0:1000]:\n",
    "    search = driver.find_element_by_xpath('//Input[@name=\"query\"]')\n",
    "    search.send_keys(city)\n",
    "    search.send_keys(Keys.RETURN)\n",
    "    sleep(5)\n",
    "    wait = WebDriverWait(driver, 20)\n",
    "    \n",
    "    try:\n",
    "        first_a_element = wait.until(EC.visibility_of_element_located((By.CSS_SELECTOR, 'div.locations-list a')))\n",
    "        div_element = driver.find_element(By.CLASS_NAME, \"locations-list\")\n",
    "        first_a_element = div_element.find_element(By.TAG_NAME, \"a\")\n",
    "        first_a_element.click()\n",
    "\n",
    "        try:\n",
    "            privacy_policy_banner = driver.find_element(By.ID, 'privacy-policy-banner')\n",
    "            privacy_policy_banner.click()\n",
    "        except:\n",
    "            pass\n",
    "\n",
    "        cards = driver.find_elements_by_xpath('//div[@class=\"air-quality-data-wrapper\"]')\n",
    "        card = cards[0]\n",
    "        sleep(5)\n",
    "        card.find_element_by_xpath('./h3[1]/a').click()\n",
    "\n",
    "\n",
    "        cards2 = driver.find_elements_by_xpath('//div[@class=\"tabs-content\"]')\n",
    "        card2 = cards2[0]\n",
    "        sleep(5)\n",
    "        card2.find_element_by_xpath('./div[1]/div[7]').click()\n",
    "\n",
    "        cards3 = driver.find_elements_by_xpath('//div[@data-qa=\"airQualityPollutantSO2\"]')\n",
    "        card3 = cards3[0]\n",
    "        so2 = card3.find_element_by_xpath('./div[1]/div[2]').get_attribute(\"innerHTML\")\n",
    "        so2_value.append(so2)\n",
    "        print(so2_value)\n",
    "    \n",
    "    except Exception as e:\n",
    "        print(f\"Error occurred for {city}: {str(e)}\")\n",
    "        so2_value.append(city)\n",
    "        continue"
   ]
  },
  {
   "cell_type": "code",
   "execution_count": null,
   "id": "425d61a2",
   "metadata": {},
   "outputs": [],
   "source": [
    "### copy the scrapped values to an array ###"
   ]
  }
 ],
 "metadata": {
  "kernelspec": {
   "display_name": "Python 3 (ipykernel)",
   "language": "python",
   "name": "python3"
  },
  "language_info": {
   "codemirror_mode": {
    "name": "ipython",
    "version": 3
   },
   "file_extension": ".py",
   "mimetype": "text/x-python",
   "name": "python",
   "nbconvert_exporter": "python",
   "pygments_lexer": "ipython3",
   "version": "3.9.13"
  }
 },
 "nbformat": 4,
 "nbformat_minor": 5
}
